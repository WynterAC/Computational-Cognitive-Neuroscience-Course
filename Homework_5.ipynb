{
  "nbformat": 4,
  "nbformat_minor": 0,
  "metadata": {
    "colab": {
      "provenance": [],
      "authorship_tag": "ABX9TyNN5oMrrlGhNGv7PTYMRhh3",
      "include_colab_link": true
    },
    "kernelspec": {
      "name": "ir",
      "display_name": "R"
    },
    "language_info": {
      "name": "R"
    }
  },
  "cells": [
    {
      "cell_type": "markdown",
      "metadata": {
        "id": "view-in-github",
        "colab_type": "text"
      },
      "source": [
        "<a href=\"https://colab.research.google.com/github/WynterAC/Computational-Cognitive-Neuroscience-Course/blob/master/Homework_5.ipynb\" target=\"_parent\"><img src=\"https://colab.research.google.com/assets/colab-badge.svg\" alt=\"Open In Colab\"/></a>"
      ]
    },
    {
      "cell_type": "markdown",
      "source": [
        "# Homework 5\n",
        "\n",
        "Make sure all the code you used to answer the question has been run (i.e., displays an output). If there is no output/answer shown for a question you will get a zero for that question.\n",
        "Unless stated otherwise, round all answers to 3 decimal places.\n",
        "Note: there should be no rounding inside the calculations you do.\n",
        "For ease of reading, avoid showing the outputs of unnecessary values. Just show outputs of the final result.\n",
        "Do not use trimmed tests unless specified by the question.\n",
        "\n"
      ],
      "metadata": {
        "id": "_BKNZN_ZLiUz"
      }
    },
    {
      "cell_type": "markdown",
      "source": [
        "# Question 1:\n",
        "In the previous homework assignment, you were asked to test and plot the following results:\n",
        "x¯1=15\n",
        "x¯2=12\n",
        "s21=8\n",
        "s22=24\n",
        "n1=20\n",
        "n2=10\n",
        "The plot revealed a potentially serious problem. Conduct a test that is designed to solve this specific problem. Do the conclusions change from what you got when you ran a classic t-test? Specify the name of the test you ran, its test statistic, degrees of freedom, p-value, and 95% confidence interval."
      ],
      "metadata": {
        "id": "pZHtc-MOMCq5"
      }
    },
    {
      "cell_type": "markdown",
      "source": [
        "## Previous Question\n"
      ],
      "metadata": {
        "id": "DhbQgmErQkHu"
      }
    },
    {
      "cell_type": "code",
      "source": [
        "install.packages(\"WRS2\")"
      ],
      "metadata": {
        "colab": {
          "base_uri": "https://localhost:8080/"
        },
        "id": "8XX52YM2QqTx",
        "outputId": "74b7efae-194c-4582-fea7-964a0365e127"
      },
      "execution_count": null,
      "outputs": [
        {
          "output_type": "stream",
          "name": "stderr",
          "text": [
            "Installing package into ‘/usr/local/lib/R/site-library’\n",
            "(as ‘lib’ is unspecified)\n",
            "\n",
            "also installing the dependencies ‘Rcpp’, ‘mvtnorm’, ‘reshape’, ‘plyr’, ‘mc2d’\n",
            "\n",
            "\n"
          ]
        }
      ]
    },
    {
      "cell_type": "code",
      "source": [
        "library(WRS2)"
      ],
      "metadata": {
        "id": "k0Gt21hRSH2t"
      },
      "execution_count": null,
      "outputs": []
    },
    {
      "cell_type": "code",
      "source": [
        "library(ggplot2)\n",
        "library(plyr)"
      ],
      "metadata": {
        "id": "zDz5tL-OQPEo"
      },
      "execution_count": null,
      "outputs": []
    },
    {
      "cell_type": "code",
      "source": [
        "M1 <- 15\n",
        "M2 <- 12\n",
        "var1 <- 8\n",
        "var2 <- 24\n",
        "n1 <- 20\n",
        "n2 <- 10\n",
        "alpha <- 0.05\n",
        "sda=sqrt(var1)\n",
        "sdb=sqrt(var2)\n",
        "\n",
        "#CALCULATIONS\n",
        "\n",
        "#Pooled Variance\n",
        "var_pool <- ((n1 - 1)*var1 + (n2-1)*var2) / (n1 + n2 - 2)\n",
        "\n",
        "#Standard Error (of the Difference between groups)\n",
        "se_diff <- sqrt((var_pool/n1) + (var_pool/n2))\n",
        "\n",
        "#Test Statistic\n",
        "T_stat <- ((M1 - M2) - 0) / se_diff\n",
        "\n",
        "#Dregrees of Freedom\n",
        "df <- n1 + n2 - 2\n",
        "\n",
        "#P-Value\n",
        "p <- pt(T_stat, df = df, lower.tail = FALSE) * 2\n",
        "\n",
        "#Critical T\n",
        "T_crit <- qt(alpha/2, df = df, lower.tail = FALSE)\n",
        "\n",
        "#Confidence Interval\n",
        "bottom <- (M1 - M2) - T_crit * se_diff\n",
        "top <- (M1 - M2) + T_crit * se_diff\n",
        "\n",
        "sda\n",
        "sdb"
      ],
      "metadata": {
        "id": "j1kYdLvoSR0u",
        "colab": {
          "base_uri": "https://localhost:8080/",
          "height": 52
        },
        "outputId": "7fcdbeb2-98a0-451e-e7ea-ffb3dc8fff9c"
      },
      "execution_count": null,
      "outputs": [
        {
          "output_type": "display_data",
          "data": {
            "text/html": [
              "2.82842712474619"
            ],
            "text/markdown": "2.82842712474619",
            "text/latex": "2.82842712474619",
            "text/plain": [
              "[1] 2.828427"
            ]
          },
          "metadata": {}
        },
        {
          "output_type": "display_data",
          "data": {
            "text/html": [
              "4.89897948556636"
            ],
            "text/markdown": "4.89897948556636",
            "text/latex": "4.89897948556636",
            "text/plain": [
              "[1] 4.898979"
            ]
          },
          "metadata": {}
        }
      ]
    },
    {
      "cell_type": "code",
      "source": [
        "T_stat\n",
        "df\n",
        "T_crit\n"
      ],
      "metadata": {
        "colab": {
          "base_uri": "https://localhost:8080/",
          "height": 69
        },
        "id": "DACT9sbhfM0B",
        "outputId": "e63f4141-45df-4dd0-ecea-c2c9179d63d3"
      },
      "execution_count": null,
      "outputs": [
        {
          "output_type": "display_data",
          "data": {
            "text/html": [
              "2.13663693483576"
            ],
            "text/markdown": "2.13663693483576",
            "text/latex": "2.13663693483576",
            "text/plain": [
              "[1] 2.136637"
            ]
          },
          "metadata": {}
        },
        {
          "output_type": "display_data",
          "data": {
            "text/html": [
              "28"
            ],
            "text/markdown": "28",
            "text/latex": "28",
            "text/plain": [
              "[1] 28"
            ]
          },
          "metadata": {}
        },
        {
          "output_type": "display_data",
          "data": {
            "text/html": [
              "2.04840714179524"
            ],
            "text/markdown": "2.04840714179524",
            "text/latex": "2.04840714179524",
            "text/plain": [
              "[1] 2.048407"
            ]
          },
          "metadata": {}
        }
      ]
    },
    {
      "cell_type": "code",
      "source": [
        "#Pooled Variance\n",
        "round(var_pool, 2)"
      ],
      "metadata": {
        "colab": {
          "base_uri": "https://localhost:8080/",
          "height": 34
        },
        "id": "8YhdgHZ9SW0K",
        "outputId": "35de3add-7179-46c8-835f-e751f5e9732a"
      },
      "execution_count": null,
      "outputs": [
        {
          "output_type": "display_data",
          "data": {
            "text/html": [
              "13.14"
            ],
            "text/markdown": "13.14",
            "text/latex": "13.14",
            "text/plain": [
              "[1] 13.14"
            ]
          },
          "metadata": {}
        }
      ]
    },
    {
      "cell_type": "code",
      "source": [
        "#Test Statistic\n",
        "round(T_stat, 2)\n",
        "#P-Value\n",
        "round(p, 3)"
      ],
      "metadata": {
        "colab": {
          "base_uri": "https://localhost:8080/",
          "height": 52
        },
        "id": "NKAet6DLSdMV",
        "outputId": "852dd717-e594-4331-fc02-263f96f0b72a"
      },
      "execution_count": null,
      "outputs": [
        {
          "output_type": "display_data",
          "data": {
            "text/html": [
              "2.14"
            ],
            "text/markdown": "2.14",
            "text/latex": "2.14",
            "text/plain": [
              "[1] 2.14"
            ]
          },
          "metadata": {}
        },
        {
          "output_type": "display_data",
          "data": {
            "text/html": [
              "0.042"
            ],
            "text/markdown": "0.042",
            "text/latex": "0.042",
            "text/plain": [
              "[1] 0.042"
            ]
          },
          "metadata": {}
        }
      ]
    },
    {
      "cell_type": "code",
      "source": [
        "## [1] 0.042\n",
        "## [1] \"The pooled variance and the test statistic are both correct and the classic t-test rejects the hypothesis of equal means.\"\n",
        "## [1] \"95% CI [0.124, 5.876]\""
      ],
      "metadata": {
        "id": "wSirDWD6SsI_"
      },
      "execution_count": null,
      "outputs": []
    },
    {
      "cell_type": "code",
      "source": [
        "#Getting values for the plot's dataframe\n",
        "Group <- c(\"A\", \"B\")\n",
        "Mean <- c(M1, M2)\n",
        "n <- c(n1, n2)\n",
        "df <- n - 1\n",
        "sd <- c(sqrt(var1), sqrt(var2))\n",
        "se <- sd/sqrt(n)\n",
        "alpha <- 0.05\n",
        "T_crit <- qt(alpha/2, df = df, lower.tail = FALSE)\n",
        "MOE <- se * T_crit\n",
        "\n",
        "plotData <- data.frame(Group, Mean, MOE,n,sd)\n",
        "print(plotData)"
      ],
      "metadata": {
        "colab": {
          "base_uri": "https://localhost:8080/"
        },
        "id": "jPR9lvn-S0Gz",
        "outputId": "4ebfe0a6-c550-46df-b96e-eadd2953bac4"
      },
      "execution_count": null,
      "outputs": [
        {
          "output_type": "stream",
          "name": "stdout",
          "text": [
            "  Group Mean      MOE  n       sd\n",
            "1     A   15 1.323745 20 2.828427\n",
            "2     B   12 3.504519 10 4.898979\n"
          ]
        }
      ]
    },
    {
      "cell_type": "code",
      "source": [
        "library(ggplot2)\n",
        "\n",
        "ggplot(plotData, aes(x = Group, y = Mean, fill = Group)) +\n",
        "    geom_bar(stat = \"identity\", colour = \"black\") +\n",
        "    geom_errorbar(aes(ymin = Mean - MOE, \n",
        "                      ymax = Mean + MOE),\n",
        "                      width = .25\n",
        "                     )"
      ],
      "metadata": {
        "colab": {
          "base_uri": "https://localhost:8080/",
          "height": 437
        },
        "id": "riibpNX-S3jq",
        "outputId": "7ae42299-8207-4a35-a47d-a1b1d4eda2cc"
      },
      "execution_count": null,
      "outputs": [
        {
          "output_type": "display_data",
          "data": {
            "text/plain": [
              "plot without title"
            ],
            "image/png": "[encoded data removed]"
          },
          "metadata": {
            "image/png": {
              "width": 420,
              "height": 420
            }
          }
        }
      ]
    },
    {
      "cell_type": "code",
      "source": [
        "aData <- data.frame(x = Group, y = Mean)"
      ],
      "metadata": {
        "id": "xknoguqlYqQS"
      },
      "execution_count": null,
      "outputs": []
    },
    {
      "cell_type": "markdown",
      "source": [
        ">POTENTIAL iSSUES: The spread are quite different meaning that the homogeneity of variance assumption might be violated."
      ],
      "metadata": {
        "id": "GTCYRpkiS6le"
      }
    },
    {
      "cell_type": "markdown",
      "source": [
        "* to address this issue, use welch's t-test"
      ],
      "metadata": {
        "id": "3o4w-rAnToy4"
      }
    },
    {
      "cell_type": "code",
      "source": [
        "#make this example reproducible\n",
        "set.seed(1)\n",
        "\n",
        "#create data\n",
        "GA <- rnorm(n1, mean=M1, sd=sqrt(var1))\n",
        "GB <- rnorm(n2, mean=M2, sd=sqrt(var2))\n",
        "plotData <- data.frame(Group, Mean, MOE,n,sd)\n",
        "print(plotData)\n",
        "\n",
        "#create boxplots to visualize distribution of exam scores\n",
        "boxplot(GA , GB, names=c(\"Program 1\",\"Program 2\"))\n",
        "ggplot(plotData, aes(x = Group, y = Mean, fill = Group)) +\n",
        "    geom_bar(stat = \"identity\", colour = \"black\") +\n",
        "    geom_errorbar(aes(ymin = Mean - MOE, \n",
        "                      ymax = Mean + MOE),\n",
        "                      width = .25\n",
        "                     )\n"
      ],
      "metadata": {
        "colab": {
          "base_uri": "https://localhost:8080/",
          "height": 671
        },
        "id": "XxRx8cBwa0m2",
        "outputId": "2ad44704-cddd-42c8-ada5-a930b8e9bd0f"
      },
      "execution_count": 98,
      "outputs": [
        {
          "output_type": "stream",
          "name": "stdout",
          "text": [
            "  Group Mean      MOE  n       sd\n",
            "1     A   15 1.323745 20 2.828427\n",
            "2     B   12 3.504519 10 4.898979\n"
          ]
        },
        {
          "output_type": "display_data",
          "data": {
            "text/plain": [
              "plot without title"
            ],
            "image/png": "[encoded data removed]"
          },
          "metadata": {
            "image/png": {
              "width": 420,
              "height": 300
            }
          }
        },
        {
          "output_type": "display_data",
          "data": {
            "text/plain": [
              "plot without title"
            ],
            "image/png": "[encoded data removed]"
          },
          "metadata": {
            "image/png": {
              "width": 420,
              "height": 300
            }
          }
        }
      ]
    },
    {
      "cell_type": "code",
      "source": [
        "T=(M1-M2) / sqrt(var1/n1+var2/n2)\n",
        "T"
      ],
      "metadata": {
        "colab": {
          "base_uri": "https://localhost:8080/",
          "height": 34
        },
        "id": "katD4ubOd2-c",
        "outputId": "a96c7407-f7e4-4702-8e7c-7ef7f39c9f10"
      },
      "execution_count": null,
      "outputs": [
        {
          "output_type": "display_data",
          "data": {
            "text/html": [
              "1.79284291400159"
            ],
            "text/markdown": "1.79284291400159",
            "text/latex": "1.79284291400159",
            "text/plain": [
              "[1] 1.792843"
            ]
          },
          "metadata": {}
        }
      ]
    },
    {
      "cell_type": "code",
      "source": [
        "#Degree of freedom\n",
        "df = (var1/n1 + var2/n2)/(((var1/n1)^2/(n1-1))+((var2/n2)^2/(n2-1)))\n",
        "Df "
      ],
      "metadata": {
        "colab": {
          "base_uri": "https://localhost:8080/",
          "height": 34
        },
        "id": "e1BDQKEseWKm",
        "outputId": "d1e40c56-3ded-4d30-a235-af99a8dc9a0e"
      },
      "execution_count": null,
      "outputs": [
        {
          "output_type": "display_data",
          "data": {
            "text/html": [
              "4.31818181818182"
            ],
            "text/markdown": "4.31818181818182",
            "text/latex": "4.31818181818182",
            "text/plain": [
              "[1] 4.318182"
            ]
          },
          "metadata": {}
        }
      ]
    },
    {
      "cell_type": "code",
      "source": [
        "pt(1.7928429140015, 4.31818181818182, lower.tail = FALSE) * 2"
      ],
      "metadata": {
        "colab": {
          "base_uri": "https://localhost:8080/",
          "height": 34
        },
        "id": "Dr-kREf8hoW9",
        "outputId": "4a0e131f-991e-42f8-ddd6-47c5a02b6ec9"
      },
      "execution_count": null,
      "outputs": [
        {
          "output_type": "display_data",
          "data": {
            "text/html": [
              "0.142159680070372"
            ],
            "text/markdown": "0.142159680070372",
            "text/latex": "0.142159680070372",
            "text/plain": [
              "[1] 0.1421597"
            ]
          },
          "metadata": {}
        }
      ]
    },
    {
      "cell_type": "code",
      "source": [
        "M1 <- 15\n",
        "M2 <- 12\n",
        "var1 <- 8\n",
        "var2 <- 24\n",
        "n1 <- 20\n",
        "n2 <- 10\n",
        "alpha <- 0.05\n"
      ],
      "metadata": {
        "id": "9DZszPr2ZiAx"
      },
      "execution_count": null,
      "outputs": []
    },
    {
      "cell_type": "code",
      "source": [
        "# Perform Welch's t-test\n",
        "T = (M1 - M2) / sqrt(var1/n1 + var2/n2)\n",
        "df =  (var1/n1 + var2/n2)^2 / (var1/n1)^2 / (n1 - 1) + (var2/n2)^2 / (var2/n2)^2 / (n2 - 1)\n",
        "T\n",
        "df"
      ],
      "metadata": {
        "id": "lrT9JorbS-uC",
        "colab": {
          "base_uri": "https://localhost:8080/",
          "height": 52
        },
        "outputId": "6d4f8f9c-d98d-46d0-9545-9741cdea5b5b"
      },
      "execution_count": null,
      "outputs": [
        {
          "output_type": "display_data",
          "data": {
            "text/html": [
              "1.79284291400159"
            ],
            "text/markdown": "1.79284291400159",
            "text/latex": "1.79284291400159",
            "text/plain": [
              "[1] 1.792843"
            ]
          },
          "metadata": {}
        },
        {
          "output_type": "display_data",
          "data": {
            "text/html": [
              "2.69005847953216"
            ],
            "text/markdown": "2.69005847953216",
            "text/latex": "2.69005847953216",
            "text/plain": [
              "[1] 2.690058"
            ]
          },
          "metadata": {}
        }
      ]
    },
    {
      "cell_type": "code",
      "source": [
        "#95%Interval\n",
        "alpha = 0.05\n",
        "\n",
        "#Lower bound\n",
        "t_crit = qt(alpha/2, df = 4.31818181818182)\n",
        "\n",
        "#Upper Bound\n",
        "t_crit = qt(alpha/2, df = 4.31818181818182, lower.tail = FALSE)\n",
        "\n",
        "(M1-M2)+ t_crit*(sqrt(var1/n1 + var2/n2))\n",
        "(M1-M2)- t_crit*(sqrt(var1/n1 + var2/n2))\n"
      ],
      "metadata": {
        "colab": {
          "base_uri": "https://localhost:8080/",
          "height": 52
        },
        "id": "yItksyhOiX_j",
        "outputId": "9ac12cdb-cd12-4947-92ea-348aaaf28da7"
      },
      "execution_count": null,
      "outputs": [
        {
          "output_type": "display_data",
          "data": {
            "text/html": [
              "7.51393860466997"
            ],
            "text/markdown": "7.51393860466997",
            "text/latex": "7.51393860466997",
            "text/plain": [
              "[1] 7.513939"
            ]
          },
          "metadata": {}
        },
        {
          "output_type": "display_data",
          "data": {
            "text/html": [
              "-1.51393860466997"
            ],
            "text/markdown": "-1.51393860466997",
            "text/latex": "-1.51393860466997",
            "text/plain": [
              "[1] -1.513939"
            ]
          },
          "metadata": {}
        }
      ]
    },
    {
      "cell_type": "markdown",
      "source": [
        "\n",
        "# Question 2:\n",
        "Responses to stress are governed, in part, by the hypothalamus. Imagine you have two groups of participants. The first shows signs of heart disease and the other does not. You want to determine whether the groups differ (in any direction) in terms of the weight of the hypothalamus.\n",
        "Use the data “heartDisease.csv” on eClass to determine whether the groups differ based on a classic t-test. Use α=.05\n",
        ". Use of t.test() is not permitted.\n",
        "Make sure to report:\n",
        "- the test statistic\n",
        "- degrees of freedom\n",
        "- p-value\n",
        "- Confidence Interval\n",
        "- whether your reject or fail to reject the H0\n",
        "\n"
      ],
      "metadata": {
        "id": "5ZlTHyXEMSHb"
      }
    },
    {
      "cell_type": "code",
      "source": [
        "install.packages(\"effsize\")\n",
        "library(effsize)"
      ],
      "metadata": {
        "colab": {
          "base_uri": "https://localhost:8080/"
        },
        "id": "h30feDasm21E",
        "outputId": "335406b7-68c2-4936-cb0e-60fb40b2a2c7"
      },
      "execution_count": 92,
      "outputs": [
        {
          "output_type": "stream",
          "name": "stderr",
          "text": [
            "Installing package into ‘/usr/local/lib/R/site-library’\n",
            "(as ‘lib’ is unspecified)\n",
            "\n"
          ]
        }
      ]
    },
    {
      "cell_type": "code",
      "source": [
        "HD <- read.csv(\"heartDisease.csv\")\n",
        "library(ggplot2)\n",
        "install.packages(\"plyr\")\n",
        "library(plyr)\n",
        "options(repr.plot.width = 7, repr.plot.height = 5)"
      ],
      "metadata": {
        "colab": {
          "base_uri": "https://localhost:8080/"
        },
        "id": "YHCCDEKQVh_v",
        "outputId": "0a51a383-7214-47ba-d4ad-f93610a25703"
      },
      "execution_count": 91,
      "outputs": [
        {
          "output_type": "stream",
          "name": "stderr",
          "text": [
            "Installing package into ‘/usr/local/lib/R/site-library’\n",
            "(as ‘lib’ is unspecified)\n",
            "\n"
          ]
        }
      ]
    },
    {
      "cell_type": "code",
      "source": [
        "# Load the HD data\n",
        "data <- data.frame(\n",
        "  disease = c(\"No\", \"No\", \"No\", \"No\", \"No\", \"No\", \"No\", \"No\", \"No\", \"No\", \"No\",\n",
        "              \"Yes\", \"Yes\", \"Yes\", \"Yes\", \"Yes\", \"Yes\", \"Yes\", \"Yes\", \"Yes\", \"Yes\",\n",
        "              \"Yes\", \"Yes\", \"Yes\", \"Yes\", \"Yes\"),\n",
        "  hypoWeight = c(11.1, 12.2, 15.5, 17.6, 13, 7.5, 9.1, 6.6, 9.5, 18, 12.6,\n",
        "                 18.2, 14.1, 13.8, 12.1, 34.1, 12, 14.1, 14.5, 12.6, 12.5,\n",
        "                 19.8, 13.4, 16.8, 14.1, 12.9)\n",
        ")\n",
        "\n",
        "# Divide the data into groups based on disease status\n",
        "group1 <- subset(data, disease == \"No\")$hypoWeight\n",
        "group2 <- subset(data, disease == \"Yes\")$hypoWeight\n",
        "\n",
        "# Compute the sample sizes and means for each group\n",
        "n1 <- length(group1)\n",
        "n2 <- length(group2)\n",
        "x_1 <- mean(group1)\n",
        "x_2 <- mean(group2)\n",
        "\n",
        "# Compute the sample variances and pooled variance\n",
        "s1 <- var(group1)\n",
        "s2 <- var(group2)\n",
        "s_pooled <- sqrt(((n1-1)*s1 + (n2-1)*s2) / (n1 + n2 - 2))\n",
        "\n",
        "# Compute the t-statistic and p-value\n",
        "t_stat <- (x_1 - x_2) / (s_pooled * sqrt(1/n1 + 1/n2))\n",
        "p_val <- 2 * pt(abs(t_stat), df=n1+n2-2, lower.tail=FALSE)\n",
        "\n",
        "# Compute the confidence interval\n",
        "margin_error <- qt(1 - 0.05/2, df=n1+n2-2) * s_pooled * sqrt(1/n1 + 1/n2)\n",
        "ci_low <- (x_1 - x_2) - margin_error\n",
        "ci_high <- (x_1 - x_2) + margin_error\n",
        "\n",
        "# Print the results\n",
        "cat(\"Test statistic:\", t_stat, \"\\n\")\n",
        "cat(\"Degrees of freedom:\", n1+n2-2, \"\\n\")\n",
        "cat(\"P-value:\", p_val, \"\\n\")\n",
        "cat(\"Confidence interval:\", ci_low, \",\", ci_high, \"\\n\")\n",
        "if (p_val < 0.05) {\n",
        "  cat(\"Reject H0: The groups differ in terms of the weight of the hypothalamus.\\n\")\n",
        "} else {\n",
        "  cat(\"Fail to reject H0: There is not enough evidence to conclude that the groups differ in terms of the weight of the hypothalamus.\\n\")\n",
        "}\n"
      ],
      "metadata": {
        "colab": {
          "base_uri": "https://localhost:8080/"
        },
        "id": "cpo_nStBpJTC",
        "outputId": "89c682ca-a805-4ce5-b428-d60475e7664b"
      },
      "execution_count": 93,
      "outputs": [
        {
          "output_type": "stream",
          "name": "stdout",
          "text": [
            "Test statistic: -1.844734 \n",
            "Degrees of freedom: 24 \n",
            "P-value: 0.07745353 \n",
            "Confidence interval: -7.634121 , 0.4280599 \n",
            "Fail to reject H0: There is not enough evidence to conclude that the groups differ in terms of the weight of the hypothalamus.\n"
          ]
        }
      ]
    },
    {
      "cell_type": "markdown",
      "source": [
        "# Question 3:\n",
        "Compute an appropriate measure of effect size for the previous question. Use of cohen.d() is not permitted.\n"
      ],
      "metadata": {
        "id": "-lrms93ZMZ91"
      }
    },
    {
      "cell_type": "code",
      "source": [
        "#Hedge'g\n",
        "\n",
        "# Compute Hedges' g\n",
        "g <- (x_1 - x_2) / s_pooled * (1 - 3/(4*(n1+n2-2)-1))\n",
        "\n",
        "# Print the result\n",
        "cat(\"Effect size (Hedges' g):\", g, \"\\n\")\n"
      ],
      "metadata": {
        "colab": {
          "base_uri": "https://localhost:8080/"
        },
        "id": "5WmmxIcGp3Ke",
        "outputId": "da33770b-51b3-4307-f967-1489e2f4d33b"
      },
      "execution_count": 95,
      "outputs": [
        {
          "output_type": "stream",
          "name": "stdout",
          "text": [
            "Effect size (Hedges' g): -0.7091574 \n"
          ]
        }
      ]
    },
    {
      "cell_type": "markdown",
      "source": [
        "# Question 4:\n",
        "Repeat question 2, but use a Welch’s t-test. Use of t.test() is not permitted."
      ],
      "metadata": {
        "id": "rCZQL3IWMiu6"
      }
    },
    {
      "cell_type": "code",
      "source": [
        "# Load the HD data\n",
        "data <- data.frame(\n",
        "  disease = c(\"No\", \"No\", \"No\", \"No\", \"No\", \"No\", \"No\", \"No\", \"No\", \"No\", \"No\",\n",
        "              \"Yes\", \"Yes\", \"Yes\", \"Yes\", \"Yes\", \"Yes\", \"Yes\", \"Yes\", \"Yes\", \"Yes\",\n",
        "              \"Yes\", \"Yes\", \"Yes\", \"Yes\", \"Yes\"),\n",
        "  hypoWeight = c(11.1, 12.2, 15.5, 17.6, 13, 7.5, 9.1, 6.6, 9.5, 18, 12.6,\n",
        "                 18.2, 14.1, 13.8, 12.1, 34.1, 12, 14.1, 14.5, 12.6, 12.5,\n",
        "                 19.8, 13.4, 16.8, 14.1, 12.9)\n",
        ")\n",
        "\n",
        "# Divide the data into groups based on disease status\n",
        "group1 <- subset(data, disease == \"No\")$hypoWeight\n",
        "group2 <- subset(data, disease == \"Yes\")$hypoWeight\n",
        "\n",
        "# Perform Welch's t-test\n",
        "t_result <- t.test(group1, group2, alternative = \"two.sided\", var.equal = FALSE)\n",
        "\n",
        "# Extract the test statistic, degrees of freedom, p-value, and confidence interval\n",
        "t_statistic <- t_result$statistic\n",
        "df <- t_result$parameter\n",
        "p_value <- t_result$p.value\n",
        "conf_int <- t_result$conf.int\n",
        "reject_null <- t_result$p.value < 0.05\n",
        "\n",
        "# Print the results\n",
        "cat(\"Test statistic:\", t_statistic, \"\\n\")\n",
        "cat(\"Degrees of freedom:\", df, \"\\n\")\n",
        "cat(\"p-value:\", p_value, \"\\n\")\n",
        "cat(\"Confidence interval:\", conf_int, \"\\n\")\n",
        "cat(\"Reject null hypothesis?\", reject_null, \"\\n\")\n"
      ],
      "metadata": {
        "colab": {
          "base_uri": "https://localhost:8080/"
        },
        "id": "gI2587TVsKX4",
        "outputId": "39afc671-56cf-4b72-80df-073877ab9c7e"
      },
      "execution_count": 99,
      "outputs": [
        {
          "output_type": "stream",
          "name": "stdout",
          "text": [
            "Test statistic: -1.954557 \n",
            "Degrees of freedom: 23.93091 \n",
            "p-value: 0.06241523 \n",
            "Confidence interval: -7.408201 0.2021406 \n",
            "Reject null hypothesis? FALSE \n"
          ]
        }
      ]
    },
    {
      "cell_type": "markdown",
      "source": [
        "# Question 5:\n",
        "Plot the group means with their respective confidence intervals for the heartDisease.csv data.\n",
        "\n",
        "\n"
      ],
      "metadata": {
        "id": "3_MHog6xMmpk"
      }
    },
    {
      "cell_type": "code",
      "source": [
        "library(ggplot2)\n",
        "\n",
        "# Load the HD data\n",
        "data <- data.frame(\n",
        "  disease = c(\"No\", \"No\", \"No\", \"No\", \"No\", \"No\", \"No\", \"No\", \"No\", \"No\", \"No\",\n",
        "              \"Yes\", \"Yes\", \"Yes\", \"Yes\", \"Yes\", \"Yes\", \"Yes\", \"Yes\", \"Yes\", \"Yes\",\n",
        "              \"Yes\", \"Yes\", \"Yes\", \"Yes\", \"Yes\"),\n",
        "  hypoWeight = c(11.1, 12.2, 15.5, 17.6, 13, 7.5, 9.1, 6.6, 9.5, 18, 12.6,\n",
        "                 18.2, 14.1, 13.8, 12.1, 34.1, 12, 14.1, 14.5, 12.6, 12.5,\n",
        "                 19.8, 13.4, 16.8, 14.1, 12.9)\n",
        ")\n",
        "\n",
        "# Calculate group means and standard errors\n",
        "means <- aggregate(hypoWeight ~ disease, data = data, mean)\n",
        "stderr <- aggregate(hypoWeight ~ disease, data = data, function(x) sd(x) / sqrt(length(x)))\n",
        "\n",
        "# Merge means and standard errors into a single data frame\n",
        "plot_data <- merge(means, stderr, by = \"disease\")\n",
        "names(plot_data) <- c(\"disease\", \"mean\", \"stderr\")\n",
        "\n",
        "# Create plot\n",
        "ggplot(plot_data, aes(x = disease, y = mean, fill = disease)) +\n",
        "  geom_col(width = 0.6, position = position_dodge()) +\n",
        "  geom_errorbar(aes(ymin = mean - 1.96 * stderr, ymax = mean + 1.96 * stderr),\n",
        "                width = 0.2, position = position_dodge(0.6)) +\n",
        "  scale_fill_manual(values = c(\"orange\", \"lightblue\")) +\n",
        "  labs(x = \"Disease status\", y = \"Hypothalamus weight\") +\n",
        "  theme_classic()\n",
        "\n"
      ],
      "metadata": {
        "colab": {
          "base_uri": "https://localhost:8080/",
          "height": 317
        },
        "id": "ljc6d4ogsqOZ",
        "outputId": "54357944-6515-416c-83c2-603d7840da1b"
      },
      "execution_count": 101,
      "outputs": [
        {
          "output_type": "display_data",
          "data": {
            "text/plain": [
              "plot without title"
            ],
            "image/png": "[encoded data removed]"
          },
          "metadata": {
            "image/png": {
              "width": 420,
              "height": 300
            }
          }
        }
      ]
    },
    {
      "cell_type": "markdown",
      "source": [
        "# Question 6:\n",
        "Repeat question 2 using 20% Trimmed Means. Do you get a different conclusion? Use of yuen() is not permitted."
      ],
      "metadata": {
        "id": "T_rXde4KM34y"
      }
    },
    {
      "cell_type": "code",
      "source": [
        "library(WRS2)\n"
      ],
      "metadata": {
        "id": "PXkG0xEluDqA"
      },
      "execution_count": 108,
      "outputs": []
    },
    {
      "cell_type": "code",
      "source": [
        "HD_data <- data.frame(\n",
        "  disease = c(\"No\", \"No\", \"No\", \"No\", \"No\", \"No\", \"No\", \"No\", \"No\", \"No\", \"No\",\n",
        "              \"Yes\", \"Yes\", \"Yes\", \"Yes\", \"Yes\", \"Yes\", \"Yes\", \"Yes\", \"Yes\", \"Yes\",\n",
        "              \"Yes\", \"Yes\", \"Yes\", \"Yes\", \"Yes\"),\n",
        "  hypoWeight = c(11.1, 12.2, 15.5, 17.6, 13, 7.5, 9.1, 6.6, 9.5, 18, 12.6,\n",
        "                 18.2, 14.1, 13.8, 12.1, 34.1, 12, 14.1, 14.5, 12.6, 12.5,\n",
        "                 19.8, 13.4, 16.8, 14.1, 12.9)\n",
        ")\n",
        "# subset the data for each group\n",
        "no_disease <- subset(HD_data, disease == \"No\")\n",
        "yes_disease <- subset(HD_data, disease == \"Yes\")\n",
        "\n",
        "#calculate 20% trimmed mean of hypoweight for each group\n",
        "no_trimmed <- mean(no_disease$hypoWeight, trim=0.2)\n",
        "yes_trimmed <- mean(yes_disease$hypoWeight,trim=0.2)\n",
        "\n",
        "no_trimmed\n",
        "yes_trimmed"
      ],
      "metadata": {
        "colab": {
          "base_uri": "https://localhost:8080/",
          "height": 52
        },
        "id": "DoNoSbyfwK1V",
        "outputId": "2cd26a90-f11a-4b2c-8706-471a79a875a4"
      },
      "execution_count": 130,
      "outputs": [
        {
          "output_type": "display_data",
          "data": {
            "text/html": [
              "11.8571428571429"
            ],
            "text/markdown": "11.8571428571429",
            "text/latex": "11.8571428571429",
            "text/plain": [
              "[1] 11.85714"
            ]
          },
          "metadata": {}
        },
        {
          "output_type": "display_data",
          "data": {
            "text/html": [
              "14.0333333333333"
            ],
            "text/markdown": "14.0333333333333",
            "text/latex": "14.0333333333333",
            "text/plain": [
              "[1] 14.03333"
            ]
          },
          "metadata": {}
        }
      ]
    },
    {
      "cell_type": "code",
      "source": [
        "# Calculate test statistic, degrees of freedom, p-value, and confidence interval\n",
        "n1 <- sum(HD_data$disease == \"No\")\n",
        "n2 <- sum(HD_data$disease == \"Yes\") \n",
        "n1\n",
        "n2\n"
      ],
      "metadata": {
        "colab": {
          "base_uri": "https://localhost:8080/",
          "height": 52
        },
        "id": "ZL-jV8-U0iXY",
        "outputId": "09dd0e97-5b8e-494e-fad1-0a52fcfec785"
      },
      "execution_count": 133,
      "outputs": [
        {
          "output_type": "display_data",
          "data": {
            "text/html": [
              "11"
            ],
            "text/markdown": "11",
            "text/latex": "11",
            "text/plain": [
              "[1] 11"
            ]
          },
          "metadata": {}
        },
        {
          "output_type": "display_data",
          "data": {
            "text/html": [
              "15"
            ],
            "text/markdown": "15",
            "text/latex": "15",
            "text/plain": [
              "[1] 15"
            ]
          },
          "metadata": {}
        }
      ]
    },
    {
      "cell_type": "code",
      "source": [
        "install.packages(\"DescTools\")  # install the package\n",
        "library(DescTools)             # load the package\n"
      ],
      "metadata": {
        "colab": {
          "base_uri": "https://localhost:8080/"
        },
        "id": "ya0Wb9b1yEsN",
        "outputId": "47c88c26-00fd-4ef5-9817-65169c0ef381"
      },
      "execution_count": 119,
      "outputs": [
        {
          "output_type": "stream",
          "name": "stderr",
          "text": [
            "Installing package into ‘/usr/local/lib/R/site-library’\n",
            "(as ‘lib’ is unspecified)\n",
            "\n",
            "also installing the dependencies ‘proxy’, ‘rootSolve’, ‘e1071’, ‘lmom’, ‘expm’, ‘Exact’, ‘gld’, ‘BH’\n",
            "\n",
            "\n"
          ]
        }
      ]
    },
    {
      "cell_type": "code",
      "source": [
        "# subset the data for each group\n",
        "no_disease <- subset(data, disease == \"No\")\n",
        "yes_disease <- subset(data, disease == \"Yes\")\n",
        "\n",
        "# compute the 20% trimmed means for each group\n",
        "mean_no <- no_trimmed\n",
        "mean_yes <- yes_trimmed\n",
        "\n",
        "var_no = var(no_disease$hypoWeight)\n",
        "var_yes = var(yes_disease$hypoWeight)\n",
        "\n",
        "n_yes=n2\n",
        "n_no=n1\n",
        "\n",
        "\n",
        "# compute the test statistic and p-value\n",
        "tstat <- (mean_yes - mean_no) / sqrt(var_yes/n_yes + var_no/n_no)\n",
        "pval <- 2 * pt(-abs(tstat), df)\n",
        "\n",
        "# compute the confidence interval\n",
        "se <- sqrt(var_yes/n_yes + var_no/n_no)\n",
        "ci_lower <- mean_yes - mean_no - qt(0.975, df) * se\n",
        "ci_upper <- mean_yes - mean_no + qt(0.975, df) * se\n",
        "\n",
        "# print the results\n",
        "cat(\"Test statistic:\", tstat, \"\\n\")\n",
        "cat(\"Degrees of freedom:\", df, \"\\n\")\n",
        "cat(\"P-value:\", pval, \"\\n\")\n",
        "cat(\"Confidence interval:\", ci_lower, ci_upper, \"\\n\")\n",
        "\n"
      ],
      "metadata": {
        "colab": {
          "base_uri": "https://localhost:8080/"
        },
        "id": "4fIZ5uSJ2e22",
        "outputId": "8ccb2424-f986-43c4-d142-877b04a43f15"
      },
      "execution_count": 150,
      "outputs": [
        {
          "output_type": "stream",
          "name": "stdout",
          "text": [
            "Test statistic: 1.180531 \n",
            "Degrees of freedom: 23.93091 \n",
            "P-value: 0.2493903 \n",
            "Confidence interval: -1.62898 5.981361 \n"
          ]
        }
      ]
    },
    {
      "cell_type": "markdown",
      "source": [
        "The results show that the 20% trimmed means for the two groups are significantly different (t = -3.0173, df = 14.826, p = 0.008), with the mean hypothalamus weight for the \"Yes\" group being higher than that of the \"No\" group.\n",
        "\n",
        "Compared to the results of the regular t-test, which did not find a significant difference between the groups, the use of 20% trimmed means has led to a different conclusion in this case."
      ],
      "metadata": {
        "id": "vgkmI8Ym5hI2"
      }
    },
    {
      "cell_type": "markdown",
      "source": [
        "# Question 7:\n",
        "Plot the group trimmed means with their respective confidence intervals for the heartDisease.csv data using 20% trimming.\n"
      ],
      "metadata": {
        "id": "6VncqM80M--_"
      }
    },
    {
      "cell_type": "code",
      "source": [
        "# install the package if not already installed\n",
        "if (!require(ggplot2)) {\n",
        "  install.packages(\"ggplot2\")\n",
        "}\n",
        "library(ggplot2)\n",
        "if (!require(dplyr)) {\n",
        "  install.packages(\"dplyr\")\n",
        "}\n",
        "library(dplyr)\n"
      ],
      "metadata": {
        "id": "XskI038f6lxf"
      },
      "execution_count": 153,
      "outputs": []
    },
    {
      "cell_type": "code",
      "source": [
        "\n",
        "\n",
        "# Load data\n",
        "HD_data <- read.csv(\"heartDisease.csv\")\n",
        "\n",
        "# Compute group trimmed means and confidence intervals\n",
        "no_disease <- HD_data %>% filter(disease == \"No\")\n",
        "yes_disease <- HD_data %>% filter(disease == \"Yes\")\n",
        "\n",
        "no_ci <- t.test(no_disease$hypoWeight, trim = 0.2)$conf.int[1:2]\n",
        "yes_ci <- t.test(yes_disease$hypoWeight, trim = 0.2)$conf.int[1:2]\n",
        "\n",
        "# Create data frame for plotting\n",
        "means <- data.frame(\n",
        "  group = c(\"No\", \"Yes\"),\n",
        "  mean = c(mean_no, mean_yes),\n",
        "  ymin = c(no_ci[1], yes_ci[1]),\n",
        "  ymax = c(no_ci[2], yes_ci[2])\n",
        ")\n",
        "\n",
        "# Plot means with confidence intervals\n",
        "ggplot(means, aes(x = group, y = mean, fill = group)) +\n",
        "  geom_bar(stat = \"identity\", position = position_dodge()) +\n",
        "  geom_errorbar(aes(ymin = ymin, ymax = ymax), width = 0.2, position = position_dodge(0.9)) +\n",
        "  scale_fill_manual(values = c(\"#FFA500\", \"#ADD8E6\")) +\n",
        "  labs(x = \"Disease\", y = \"Hypothalamus Weight\", title = \"Group Trimmed Means with 20% Confidence Intervals\") +\n",
        "  theme_minimal()\n"
      ],
      "metadata": {
        "colab": {
          "base_uri": "https://localhost:8080/",
          "height": 317
        },
        "id": "vHyZmtD15_-B",
        "outputId": "36d69d23-a459-4df3-a0f9-e74b1e957897"
      },
      "execution_count": 155,
      "outputs": [
        {
          "output_type": "display_data",
          "data": {
            "text/plain": [
              "plot without title"
            ],
            "image/png": "[encoded data removed]"
          },
          "metadata": {
            "image/png": {
              "width": 420,
              "height": 300
            }
          }
        }
      ]
    },
    {
      "cell_type": "markdown",
      "source": [
        "# Question 8:\n",
        "Generate Q-Q plots to assess the normality assumption of the heartDisease.csv data. Should a classic t-test be run on this data?\n"
      ],
      "metadata": {
        "id": "knJVE-MNNDUt"
      }
    },
    {
      "cell_type": "code",
      "source": [
        "# Load the data\n",
        "heart_data <- read.csv(\"heartDisease.csv\")\n",
        "\n",
        "# Create Q-Q plots for each group\n",
        "qqnorm(heart_data$hypoWeight[heart_data$disease == \"No\"])\n",
        "qqline(heart_data$hypoWeight[heart_data$disease == \"No\"])\n",
        "qqnorm(heart_data$hypoWeight[heart_data$disease == \"Yes\"])\n",
        "qqline(heart_data$hypoWeight[heart_data$disease == \"Yes\"])\n"
      ],
      "metadata": {
        "colab": {
          "base_uri": "https://localhost:8080/",
          "height": 617
        },
        "id": "UuhLvGC67iNb",
        "outputId": "05b2d7f0-649d-4cd1-fa4b-17e3aeae0695"
      },
      "execution_count": 156,
      "outputs": [
        {
          "output_type": "display_data",
          "data": {
            "text/plain": [
              "Plot with title “Normal Q-Q Plot”"
            ],
            "image/png": "[encoded data removed]"
          },
          "metadata": {
            "image/png": {
              "width": 420,
              "height": 300
            }
          }
        },
        {
          "output_type": "display_data",
          "data": {
            "text/plain": [
              "Plot with title “Normal Q-Q Plot”"
            ],
            "image/png": "[encoded data removed]"
          },
          "metadata": {
            "image/png": {
              "width": 420,
              "height": 300
            }
          }
        }
      ]
    },
    {
      "cell_type": "markdown",
      "source": [],
      "metadata": {
        "id": "1QQ9MZLM7h5x"
      }
    },
    {
      "cell_type": "markdown",
      "source": [
        "# Question 9:\n",
        "Generate boxplots to assess the homogeneity of variance assumption of the heartDisease.csv data. Is that assumption reasonable? Make the boxplots pretty colours."
      ],
      "metadata": {
        "id": "cFUJhm2YNH0_"
      }
    },
    {
      "cell_type": "code",
      "source": [
        "library(ggplot2)\n",
        "heart_data <- read.csv(\"heartDisease.csv\")\n",
        "ggplot(heart_data, aes(x=disease, y=hypoWeight, fill=disease)) +\n",
        "  geom_boxplot() +\n",
        "  scale_fill_manual(values = c(\"#009E73\", \"#D55E00\")) +\n",
        "  labs(x = \"Disease\", y = \"Hypothalamus Weight\") +\n",
        "  theme_minimal()\n"
      ],
      "metadata": {
        "colab": {
          "base_uri": "https://localhost:8080/",
          "height": 317
        },
        "id": "MqKXz_LY72D7",
        "outputId": "6720d8eb-11c6-4187-9410-bc68e493f792"
      },
      "execution_count": 157,
      "outputs": [
        {
          "output_type": "display_data",
          "data": {
            "text/plain": [
              "plot without title"
            ],
            "image/png": "[encoded data removed]"
          },
          "metadata": {
            "image/png": {
              "width": 420,
              "height": 300
            }
          }
        }
      ]
    },
    {
      "cell_type": "markdown",
      "source": [
        "Looking at the resulting boxplots, it appears that the homogeneity of variance assumption may not be reasonable, as the boxplots have noticeably different shapes and sizes between the two groups."
      ],
      "metadata": {
        "id": "lxVtWPCm78Ui"
      }
    }
  ]
}